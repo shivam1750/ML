{
 "cells": [
  {
   "cell_type": "code",
   "execution_count": 1,
   "metadata": {},
   "outputs": [],
   "source": [
    "import pandas as pd \n",
    "import numpy as np \n",
    "import seaborn as sns \n",
    "from sklearn.linear_model import LinearRegression "
   ]
  },
  {
   "cell_type": "code",
   "execution_count": 2,
   "metadata": {},
   "outputs": [
    {
     "data": {
      "text/html": [
       "<div>\n",
       "<style scoped>\n",
       "    .dataframe tbody tr th:only-of-type {\n",
       "        vertical-align: middle;\n",
       "    }\n",
       "\n",
       "    .dataframe tbody tr th {\n",
       "        vertical-align: top;\n",
       "    }\n",
       "\n",
       "    .dataframe thead th {\n",
       "        text-align: right;\n",
       "    }\n",
       "</style>\n",
       "<table border=\"1\" class=\"dataframe\">\n",
       "  <thead>\n",
       "    <tr style=\"text-align: right;\">\n",
       "      <th></th>\n",
       "      <th>age</th>\n",
       "      <th>sex</th>\n",
       "      <th>bmi</th>\n",
       "      <th>children</th>\n",
       "      <th>smoker</th>\n",
       "      <th>region</th>\n",
       "      <th>charges</th>\n",
       "    </tr>\n",
       "  </thead>\n",
       "  <tbody>\n",
       "    <tr>\n",
       "      <th>0</th>\n",
       "      <td>19</td>\n",
       "      <td>female</td>\n",
       "      <td>27.900</td>\n",
       "      <td>0</td>\n",
       "      <td>yes</td>\n",
       "      <td>southwest</td>\n",
       "      <td>16884.92400</td>\n",
       "    </tr>\n",
       "    <tr>\n",
       "      <th>1</th>\n",
       "      <td>18</td>\n",
       "      <td>male</td>\n",
       "      <td>33.770</td>\n",
       "      <td>1</td>\n",
       "      <td>no</td>\n",
       "      <td>southeast</td>\n",
       "      <td>1725.55230</td>\n",
       "    </tr>\n",
       "    <tr>\n",
       "      <th>2</th>\n",
       "      <td>28</td>\n",
       "      <td>male</td>\n",
       "      <td>33.000</td>\n",
       "      <td>3</td>\n",
       "      <td>no</td>\n",
       "      <td>southeast</td>\n",
       "      <td>4449.46200</td>\n",
       "    </tr>\n",
       "    <tr>\n",
       "      <th>3</th>\n",
       "      <td>33</td>\n",
       "      <td>male</td>\n",
       "      <td>22.705</td>\n",
       "      <td>0</td>\n",
       "      <td>no</td>\n",
       "      <td>northwest</td>\n",
       "      <td>21984.47061</td>\n",
       "    </tr>\n",
       "    <tr>\n",
       "      <th>4</th>\n",
       "      <td>32</td>\n",
       "      <td>male</td>\n",
       "      <td>28.880</td>\n",
       "      <td>0</td>\n",
       "      <td>no</td>\n",
       "      <td>northwest</td>\n",
       "      <td>3866.85520</td>\n",
       "    </tr>\n",
       "  </tbody>\n",
       "</table>\n",
       "</div>"
      ],
      "text/plain": [
       "   age     sex     bmi  children smoker     region      charges\n",
       "0   19  female  27.900         0    yes  southwest  16884.92400\n",
       "1   18    male  33.770         1     no  southeast   1725.55230\n",
       "2   28    male  33.000         3     no  southeast   4449.46200\n",
       "3   33    male  22.705         0     no  northwest  21984.47061\n",
       "4   32    male  28.880         0     no  northwest   3866.85520"
      ]
     },
     "execution_count": 2,
     "metadata": {},
     "output_type": "execute_result"
    }
   ],
   "source": [
    "df = pd.read_csv('expenses.csv' , header=0)\n",
    "df= pd.DataFrame(df)\n",
    "df.head()"
   ]
  },
  {
   "cell_type": "code",
   "execution_count": 3,
   "metadata": {},
   "outputs": [
    {
     "data": {
      "text/plain": [
       "age         0\n",
       "sex         0\n",
       "bmi         0\n",
       "children    0\n",
       "smoker      0\n",
       "region      0\n",
       "charges     0\n",
       "dtype: int64"
      ]
     },
     "execution_count": 3,
     "metadata": {},
     "output_type": "execute_result"
    }
   ],
   "source": [
    "df.isna().sum()"
   ]
  },
  {
   "cell_type": "code",
   "execution_count": 4,
   "metadata": {},
   "outputs": [],
   "source": [
    "df = pd.get_dummies(df)"
   ]
  },
  {
   "cell_type": "code",
   "execution_count": 5,
   "metadata": {},
   "outputs": [],
   "source": [
    "df.rename(columns={'sex_male': 'sex'}, inplace=True)"
   ]
  },
  {
   "cell_type": "code",
   "execution_count": 6,
   "metadata": {},
   "outputs": [],
   "source": [
    "df.rename(columns={'smoker_yes': 'smoker'}, inplace=True)"
   ]
  },
  {
   "cell_type": "code",
   "execution_count": 7,
   "metadata": {},
   "outputs": [
    {
     "data": {
      "text/html": [
       "<div>\n",
       "<style scoped>\n",
       "    .dataframe tbody tr th:only-of-type {\n",
       "        vertical-align: middle;\n",
       "    }\n",
       "\n",
       "    .dataframe tbody tr th {\n",
       "        vertical-align: top;\n",
       "    }\n",
       "\n",
       "    .dataframe thead th {\n",
       "        text-align: right;\n",
       "    }\n",
       "</style>\n",
       "<table border=\"1\" class=\"dataframe\">\n",
       "  <thead>\n",
       "    <tr style=\"text-align: right;\">\n",
       "      <th></th>\n",
       "      <th>age</th>\n",
       "      <th>bmi</th>\n",
       "      <th>children</th>\n",
       "      <th>charges</th>\n",
       "      <th>sex</th>\n",
       "      <th>smoker</th>\n",
       "      <th>region_northeast</th>\n",
       "      <th>region_northwest</th>\n",
       "      <th>region_southeast</th>\n",
       "      <th>region_southwest</th>\n",
       "    </tr>\n",
       "  </thead>\n",
       "  <tbody>\n",
       "    <tr>\n",
       "      <th>0</th>\n",
       "      <td>19</td>\n",
       "      <td>27.900</td>\n",
       "      <td>0</td>\n",
       "      <td>16884.92400</td>\n",
       "      <td>0</td>\n",
       "      <td>1</td>\n",
       "      <td>0</td>\n",
       "      <td>0</td>\n",
       "      <td>0</td>\n",
       "      <td>1</td>\n",
       "    </tr>\n",
       "    <tr>\n",
       "      <th>1</th>\n",
       "      <td>18</td>\n",
       "      <td>33.770</td>\n",
       "      <td>1</td>\n",
       "      <td>1725.55230</td>\n",
       "      <td>1</td>\n",
       "      <td>0</td>\n",
       "      <td>0</td>\n",
       "      <td>0</td>\n",
       "      <td>1</td>\n",
       "      <td>0</td>\n",
       "    </tr>\n",
       "    <tr>\n",
       "      <th>2</th>\n",
       "      <td>28</td>\n",
       "      <td>33.000</td>\n",
       "      <td>3</td>\n",
       "      <td>4449.46200</td>\n",
       "      <td>1</td>\n",
       "      <td>0</td>\n",
       "      <td>0</td>\n",
       "      <td>0</td>\n",
       "      <td>1</td>\n",
       "      <td>0</td>\n",
       "    </tr>\n",
       "    <tr>\n",
       "      <th>3</th>\n",
       "      <td>33</td>\n",
       "      <td>22.705</td>\n",
       "      <td>0</td>\n",
       "      <td>21984.47061</td>\n",
       "      <td>1</td>\n",
       "      <td>0</td>\n",
       "      <td>0</td>\n",
       "      <td>1</td>\n",
       "      <td>0</td>\n",
       "      <td>0</td>\n",
       "    </tr>\n",
       "    <tr>\n",
       "      <th>4</th>\n",
       "      <td>32</td>\n",
       "      <td>28.880</td>\n",
       "      <td>0</td>\n",
       "      <td>3866.85520</td>\n",
       "      <td>1</td>\n",
       "      <td>0</td>\n",
       "      <td>0</td>\n",
       "      <td>1</td>\n",
       "      <td>0</td>\n",
       "      <td>0</td>\n",
       "    </tr>\n",
       "  </tbody>\n",
       "</table>\n",
       "</div>"
      ],
      "text/plain": [
       "   age     bmi  children      charges  sex  smoker  region_northeast  \\\n",
       "0   19  27.900         0  16884.92400    0       1                 0   \n",
       "1   18  33.770         1   1725.55230    1       0                 0   \n",
       "2   28  33.000         3   4449.46200    1       0                 0   \n",
       "3   33  22.705         0  21984.47061    1       0                 0   \n",
       "4   32  28.880         0   3866.85520    1       0                 0   \n",
       "\n",
       "   region_northwest  region_southeast  region_southwest  \n",
       "0                 0                 0                 1  \n",
       "1                 0                 1                 0  \n",
       "2                 0                 1                 0  \n",
       "3                 1                 0                 0  \n",
       "4                 1                 0                 0  "
      ]
     },
     "execution_count": 7,
     "metadata": {},
     "output_type": "execute_result"
    }
   ],
   "source": [
    "list = ['sex_female' , 'smoker_no']\n",
    "df = df.drop(list , axis=1)\n",
    "df.head()"
   ]
  },
  {
   "cell_type": "code",
   "execution_count": 8,
   "metadata": {},
   "outputs": [],
   "source": [
    "X = df.drop('charges' , axis=1)\n",
    "y = df['charges']\n"
   ]
  },
  {
   "cell_type": "markdown",
   "metadata": {},
   "source": [
    "## using sklearn library"
   ]
  },
  {
   "cell_type": "code",
   "execution_count": 9,
   "metadata": {},
   "outputs": [],
   "source": [
    "from sklearn.model_selection import train_test_split"
   ]
  },
  {
   "cell_type": "code",
   "execution_count": 10,
   "metadata": {},
   "outputs": [],
   "source": [
    "X_train ,X_test , y_train , y_test = train_test_split(X,y , test_size=0.2 , random_state=42)"
   ]
  },
  {
   "cell_type": "code",
   "execution_count": 11,
   "metadata": {},
   "outputs": [
    {
     "data": {
      "text/html": [
       "<style>#sk-container-id-1 {color: black;background-color: white;}#sk-container-id-1 pre{padding: 0;}#sk-container-id-1 div.sk-toggleable {background-color: white;}#sk-container-id-1 label.sk-toggleable__label {cursor: pointer;display: block;width: 100%;margin-bottom: 0;padding: 0.3em;box-sizing: border-box;text-align: center;}#sk-container-id-1 label.sk-toggleable__label-arrow:before {content: \"▸\";float: left;margin-right: 0.25em;color: #696969;}#sk-container-id-1 label.sk-toggleable__label-arrow:hover:before {color: black;}#sk-container-id-1 div.sk-estimator:hover label.sk-toggleable__label-arrow:before {color: black;}#sk-container-id-1 div.sk-toggleable__content {max-height: 0;max-width: 0;overflow: hidden;text-align: left;background-color: #f0f8ff;}#sk-container-id-1 div.sk-toggleable__content pre {margin: 0.2em;color: black;border-radius: 0.25em;background-color: #f0f8ff;}#sk-container-id-1 input.sk-toggleable__control:checked~div.sk-toggleable__content {max-height: 200px;max-width: 100%;overflow: auto;}#sk-container-id-1 input.sk-toggleable__control:checked~label.sk-toggleable__label-arrow:before {content: \"▾\";}#sk-container-id-1 div.sk-estimator input.sk-toggleable__control:checked~label.sk-toggleable__label {background-color: #d4ebff;}#sk-container-id-1 div.sk-label input.sk-toggleable__control:checked~label.sk-toggleable__label {background-color: #d4ebff;}#sk-container-id-1 input.sk-hidden--visually {border: 0;clip: rect(1px 1px 1px 1px);clip: rect(1px, 1px, 1px, 1px);height: 1px;margin: -1px;overflow: hidden;padding: 0;position: absolute;width: 1px;}#sk-container-id-1 div.sk-estimator {font-family: monospace;background-color: #f0f8ff;border: 1px dotted black;border-radius: 0.25em;box-sizing: border-box;margin-bottom: 0.5em;}#sk-container-id-1 div.sk-estimator:hover {background-color: #d4ebff;}#sk-container-id-1 div.sk-parallel-item::after {content: \"\";width: 100%;border-bottom: 1px solid gray;flex-grow: 1;}#sk-container-id-1 div.sk-label:hover label.sk-toggleable__label {background-color: #d4ebff;}#sk-container-id-1 div.sk-serial::before {content: \"\";position: absolute;border-left: 1px solid gray;box-sizing: border-box;top: 0;bottom: 0;left: 50%;z-index: 0;}#sk-container-id-1 div.sk-serial {display: flex;flex-direction: column;align-items: center;background-color: white;padding-right: 0.2em;padding-left: 0.2em;position: relative;}#sk-container-id-1 div.sk-item {position: relative;z-index: 1;}#sk-container-id-1 div.sk-parallel {display: flex;align-items: stretch;justify-content: center;background-color: white;position: relative;}#sk-container-id-1 div.sk-item::before, #sk-container-id-1 div.sk-parallel-item::before {content: \"\";position: absolute;border-left: 1px solid gray;box-sizing: border-box;top: 0;bottom: 0;left: 50%;z-index: -1;}#sk-container-id-1 div.sk-parallel-item {display: flex;flex-direction: column;z-index: 1;position: relative;background-color: white;}#sk-container-id-1 div.sk-parallel-item:first-child::after {align-self: flex-end;width: 50%;}#sk-container-id-1 div.sk-parallel-item:last-child::after {align-self: flex-start;width: 50%;}#sk-container-id-1 div.sk-parallel-item:only-child::after {width: 0;}#sk-container-id-1 div.sk-dashed-wrapped {border: 1px dashed gray;margin: 0 0.4em 0.5em 0.4em;box-sizing: border-box;padding-bottom: 0.4em;background-color: white;}#sk-container-id-1 div.sk-label label {font-family: monospace;font-weight: bold;display: inline-block;line-height: 1.2em;}#sk-container-id-1 div.sk-label-container {text-align: center;}#sk-container-id-1 div.sk-container {/* jupyter's `normalize.less` sets `[hidden] { display: none; }` but bootstrap.min.css set `[hidden] { display: none !important; }` so we also need the `!important` here to be able to override the default hidden behavior on the sphinx rendered scikit-learn.org. See: https://github.com/scikit-learn/scikit-learn/issues/21755 */display: inline-block !important;position: relative;}#sk-container-id-1 div.sk-text-repr-fallback {display: none;}</style><div id=\"sk-container-id-1\" class=\"sk-top-container\"><div class=\"sk-text-repr-fallback\"><pre>LinearRegression()</pre><b>In a Jupyter environment, please rerun this cell to show the HTML representation or trust the notebook. <br />On GitHub, the HTML representation is unable to render, please try loading this page with nbviewer.org.</b></div><div class=\"sk-container\" hidden><div class=\"sk-item\"><div class=\"sk-estimator sk-toggleable\"><input class=\"sk-toggleable__control sk-hidden--visually\" id=\"sk-estimator-id-1\" type=\"checkbox\" checked><label for=\"sk-estimator-id-1\" class=\"sk-toggleable__label sk-toggleable__label-arrow\">LinearRegression</label><div class=\"sk-toggleable__content\"><pre>LinearRegression()</pre></div></div></div></div></div>"
      ],
      "text/plain": [
       "LinearRegression()"
      ]
     },
     "execution_count": 11,
     "metadata": {},
     "output_type": "execute_result"
    }
   ],
   "source": [
    "model = LinearRegression()\n",
    "model.fit(X_train ,y_train)"
   ]
  },
  {
   "cell_type": "code",
   "execution_count": 12,
   "metadata": {},
   "outputs": [],
   "source": [
    "y_pred = model.predict(X_test)\n",
    "y_train_a = model.predict(X_train)"
   ]
  },
  {
   "cell_type": "code",
   "execution_count": 15,
   "metadata": {},
   "outputs": [
    {
     "name": "stdout",
     "output_type": "stream",
     "text": [
      "[ 8969.55027444  7068.74744287 36858.41091155  9454.67850053\n",
      " 26973.17345656 10864.11316424   170.28084137 16903.45028662\n",
      "  1092.43093614 11218.34318352 28101.68455267  9377.73460205\n",
      "  5263.0595179  38416.04221107 40255.82339284 37098.25353123\n",
      " 15240.39392306 35912.88264434  9112.52398703 31461.92108909\n",
      "  3847.68845883 10130.12001517  2370.54189389  7140.21550828\n",
      " 11301.76782638 12961.65366224 14509.47251876  6159.8976107\n",
      "  9963.85857263  2177.85718217  9115.93673493 13073.68932159\n",
      "  4561.82376202  3408.20756033  4459.81359745 13032.06505076\n",
      "  1979.99357292  8813.28303302 33271.29124448 32585.51583927\n",
      "  3908.76090964  4326.10774721 14142.81326533 11423.45494846\n",
      "  8774.13955311 12097.28051001  5281.57353499  3150.5596042\n",
      " 35494.46461214  9150.1124786  15836.84575621  2343.57470069\n",
      " 12364.78414194  1482.29488266 13389.06105161 12573.57395972\n",
      "  4341.83680558 32165.33688042 13321.3360032  12896.82071102\n",
      " 14167.99421483 10506.17623512 16360.78543548  7763.89824584\n",
      " 11839.25019431  4061.19750503 26652.40230125 10930.14138671\n",
      "  2137.41385988  6209.01123411 10729.82391284 11628.3104129\n",
      " 10981.04528946  9166.50818596 11954.27732874  6747.85121734\n",
      "  7248.5304713  10735.16710748  6580.84819774  8762.00329355\n",
      "  3767.13383454 36632.4975496   6378.11979721 30842.09248656\n",
      " 34846.52451051 35278.07387112  7019.444352   12861.38414264\n",
      "  9942.30149778 14473.5260648  17693.37304474 35258.24845137\n",
      " 33029.58968269  6185.91730447 31999.98962535  9481.33158273\n",
      " 29444.04271523  3674.48498404 28308.26432106  5823.36495229\n",
      "  5407.76752001  1883.4947576  11499.675042   15075.90690632\n",
      " 11699.63163008  4308.82427855  9895.1840044  31708.40056201\n",
      "   -86.87094667 32819.71429004  3280.69178415 10183.88853878\n",
      " 14318.76389179 31642.35684542 11461.57806791  3929.23701831\n",
      " 13107.89313088 31810.99450607  8152.02593593  3238.08417076\n",
      "  8439.56108376 10594.63871458 15219.68736374  5647.8808143\n",
      "  3781.95285499 10228.944897   10900.12933883 11122.74845192\n",
      " 14438.14112575  7430.31504776  5386.22676759  9231.32739901\n",
      "  9343.76283713 12538.27606344  8337.66982683 15333.36900871\n",
      "  8411.2145439  31797.27496298 35785.91843418 31603.71967017\n",
      "  6011.96229251 12607.03584641  6013.5115031  14560.79590559\n",
      "  2493.47989441 32963.45524228  6265.14380504  5034.62173797\n",
      " 14344.81347407  6941.1412259  38670.01270366  3087.58741836\n",
      "  5885.8752536  31686.24200595 11562.61859836  8476.04749512\n",
      " 14806.72486264  9814.46186143 27105.71831469 33453.83352069\n",
      " 14551.8999207   1684.36856768 13166.96197398  2222.76894041\n",
      "  5449.59393727 11568.96325488 39807.96912709 36500.65163031\n",
      " 34001.37945748  3897.27856532  7456.14132125  8661.82084477\n",
      " 12450.92458882  4813.53293089  2047.65528159 32112.11251984\n",
      " 25111.52085938 17484.27663755 26411.46181822 10159.52421\n",
      " 37260.32666386  -441.23918333  6779.55013103  7781.45337795\n",
      "  4367.95988484  5105.87170813  5919.18675042  4305.71645941\n",
      " 15191.08806502 11132.09935114  6932.80116584  2525.64793222\n",
      "  1536.05183213 31944.78284317 16414.12251517 12011.53367195\n",
      "  1268.05926603 12531.25953189  1564.93415917  8737.33621694\n",
      "  1873.03940488 33916.22971211 10858.38635063  2603.43633853\n",
      " 25674.40250332 26343.43022704  9430.91152033  1800.73500777\n",
      " 13261.42480211  1120.17810533 10386.66427709 10567.29006474\n",
      " 16944.25995713 26846.54662457  6939.11178393  5193.04710054\n",
      "  5846.00017265 13229.60536846 11098.33930228  8362.28134289\n",
      "  5135.53940151 12308.34064139 13861.17886997 35773.70926219\n",
      "  4157.01930317 28917.86562624  -914.37342357  2873.71150671\n",
      " 11046.2540774  15683.06950225  5210.67532324  6888.38518351\n",
      "  3854.31140958 31312.64705453  7241.43226665 12405.99508651\n",
      "  5619.17039188  9528.22557021 36314.009043    4429.40596906\n",
      "  9667.91523953 31161.15738995  5747.13292318  4603.37294255\n",
      "  1048.35533791  4832.6604097   4574.9041044   6507.30666036\n",
      " 18659.12407756 -1545.57184934  2376.4352498  10694.62157146\n",
      "  3151.28919904 10209.96361187  3733.89128353  5125.08103172\n",
      " 12400.90700504  6218.65296628  8231.63765089  7590.50155269\n",
      "  8924.15352268 10482.90359975 27808.04576398 39061.50093248\n",
      " 11761.4991981   7687.56363151 40920.29151165 12318.58665305] ------------ [ 7094.54007011  8344.72998713  9153.77419778 ... 11441.08519155\n",
      " 37314.37460682 11453.12102783]\n"
     ]
    }
   ],
   "source": [
    "print(y_pred ,\"------------\",y_train_a)"
   ]
  },
  {
   "cell_type": "code",
   "execution_count": 16,
   "metadata": {},
   "outputs": [],
   "source": [
    "from sklearn.metrics import  r2_score"
   ]
  },
  {
   "cell_type": "code",
   "execution_count": 23,
   "metadata": {},
   "outputs": [
    {
     "data": {
      "text/plain": [
       "0.7835929767120723"
      ]
     },
     "execution_count": 23,
     "metadata": {},
     "output_type": "execute_result"
    }
   ],
   "source": [
    "r2_score(y_test , y_pred)"
   ]
  },
  {
   "cell_type": "code",
   "execution_count": 18,
   "metadata": {},
   "outputs": [
    {
     "data": {
      "text/plain": [
       "0.7417255854683333"
      ]
     },
     "execution_count": 18,
     "metadata": {},
     "output_type": "execute_result"
    }
   ],
   "source": [
    "r2_score(y_train , y_train_a)"
   ]
  },
  {
   "cell_type": "code",
   "execution_count": 19,
   "metadata": {},
   "outputs": [
    {
     "name": "stdout",
     "output_type": "stream",
     "text": [
      "(1070, 9) ----- (1070,)\n"
     ]
    }
   ],
   "source": [
    "print(X_train.shape , \"-----\" , y_train.shape)"
   ]
  },
  {
   "cell_type": "code",
   "execution_count": 24,
   "metadata": {},
   "outputs": [
    {
     "data": {
      "image/png": "[encoded data removed]",
      "text/plain": [
       "<Figure size 640x480 with 1 Axes>"
      ]
     },
     "metadata": {},
     "output_type": "display_data"
    }
   ],
   "source": [
    "import matplotlib.pyplot as plt\n",
    "\n",
    "plt.scatter(y_test, y_pred, c='b')  # Actual values in blue\n",
    "plt.plot(y_test, model.predict(X_test), 'r--', label='Predicted Line')  # Predicted line in red\n",
    "plt.xlabel('Actual Values')\n",
    "plt.ylabel('Predicted Values')\n",
    "plt.title('Actual vs Predicted Values')\n",
    "plt.legend()\n",
    "plt.show()"
   ]
  },
  {
   "cell_type": "markdown",
   "metadata": {},
   "source": [
    "regularization method -> before use regularization always turn data into standaradization formarte"
   ]
  },
  {
   "cell_type": "code",
   "execution_count": 25,
   "metadata": {},
   "outputs": [],
   "source": [
    "from sklearn.preprocessing import  StandardScaler"
   ]
  },
  {
   "cell_type": "code",
   "execution_count": 26,
   "metadata": {},
   "outputs": [],
   "source": [
    "scaler = StandardScaler()"
   ]
  },
  {
   "cell_type": "code",
   "execution_count": 29,
   "metadata": {},
   "outputs": [],
   "source": [
    "X_train_scaled=scaler.fit_transform(X_train)\n",
    "X_test_scaled=scaler.transform(X_test)"
   ]
  },
  {
   "cell_type": "code",
   "execution_count": 30,
   "metadata": {},
   "outputs": [
    {
     "name": "stdout",
     "output_type": "stream",
     "text": [
      "Mean absolute error 4181.974349710989\n",
      "R2 Score 0.7835685003833539\n"
     ]
    },
    {
     "data": {
      "text/plain": [
       "<matplotlib.collections.PathCollection at 0x1d6ff1b4e20>"
      ]
     },
     "execution_count": 30,
     "metadata": {},
     "output_type": "execute_result"
    },
    {
     "data": {
      "image/png": "[encoded data removed]",
      "text/plain": [
       "<Figure size 640x480 with 1 Axes>"
      ]
     },
     "metadata": {},
     "output_type": "display_data"
    }
   ],
   "source": [
    "from sklearn.linear_model import Ridge\n",
    "from sklearn.metrics import mean_absolute_error\n",
    "from sklearn.metrics import r2_score\n",
    "ridge=Ridge(alpha=0.5)\n",
    "ridge.fit(X_train_scaled,y_train)\n",
    "y_pred=ridge.predict(X_test_scaled)\n",
    "mae=mean_absolute_error(y_test,y_pred)\n",
    "score=r2_score(y_test,y_pred)\n",
    "print(\"Mean absolute error\", mae)\n",
    "print(\"R2 Score\", score)\n",
    "plt.scatter(y_test,y_pred)"
   ]
  },
  {
   "cell_type": "code",
   "execution_count": 31,
   "metadata": {},
   "outputs": [],
   "source": [
    "from sklearn.model_selection import  validation_curve"
   ]
  },
  {
   "cell_type": "code",
   "execution_count": 35,
   "metadata": {},
   "outputs": [
    {
     "name": "stdout",
     "output_type": "stream",
     "text": [
      "\u001b[1;31mSignature:\u001b[0m\n",
      "\u001b[0mvalidation_curve\u001b[0m\u001b[1;33m(\u001b[0m\u001b[1;33m\n",
      "\u001b[0m    \u001b[0mestimator\u001b[0m\u001b[1;33m,\u001b[0m\u001b[1;33m\n",
      "\u001b[0m    \u001b[0mX\u001b[0m\u001b[1;33m,\u001b[0m\u001b[1;33m\n",
      "\u001b[0m    \u001b[0my\u001b[0m\u001b[1;33m,\u001b[0m\u001b[1;33m\n",
      "\u001b[0m    \u001b[1;33m*\u001b[0m\u001b[1;33m,\u001b[0m\u001b[1;33m\n",
      "\u001b[0m    \u001b[0mparam_name\u001b[0m\u001b[1;33m,\u001b[0m\u001b[1;33m\n",
      "\u001b[0m    \u001b[0mparam_range\u001b[0m\u001b[1;33m,\u001b[0m\u001b[1;33m\n",
      "\u001b[0m    \u001b[0mgroups\u001b[0m\u001b[1;33m=\u001b[0m\u001b[1;32mNone\u001b[0m\u001b[1;33m,\u001b[0m\u001b[1;33m\n",
      "\u001b[0m    \u001b[0mcv\u001b[0m\u001b[1;33m=\u001b[0m\u001b[1;32mNone\u001b[0m\u001b[1;33m,\u001b[0m\u001b[1;33m\n",
      "\u001b[0m    \u001b[0mscoring\u001b[0m\u001b[1;33m=\u001b[0m\u001b[1;32mNone\u001b[0m\u001b[1;33m,\u001b[0m\u001b[1;33m\n",
      "\u001b[0m    \u001b[0mn_jobs\u001b[0m\u001b[1;33m=\u001b[0m\u001b[1;32mNone\u001b[0m\u001b[1;33m,\u001b[0m\u001b[1;33m\n",
      "\u001b[0m    \u001b[0mpre_dispatch\u001b[0m\u001b[1;33m=\u001b[0m\u001b[1;34m'all'\u001b[0m\u001b[1;33m,\u001b[0m\u001b[1;33m\n",
      "\u001b[0m    \u001b[0mverbose\u001b[0m\u001b[1;33m=\u001b[0m\u001b[1;36m0\u001b[0m\u001b[1;33m,\u001b[0m\u001b[1;33m\n",
      "\u001b[0m    \u001b[0merror_score\u001b[0m\u001b[1;33m=\u001b[0m\u001b[0mnan\u001b[0m\u001b[1;33m,\u001b[0m\u001b[1;33m\n",
      "\u001b[0m    \u001b[0mfit_params\u001b[0m\u001b[1;33m=\u001b[0m\u001b[1;32mNone\u001b[0m\u001b[1;33m,\u001b[0m\u001b[1;33m\n",
      "\u001b[0m\u001b[1;33m)\u001b[0m\u001b[1;33m\u001b[0m\u001b[1;33m\u001b[0m\u001b[0m\n",
      "\u001b[1;31mDocstring:\u001b[0m\n",
      "Validation curve.\n",
      "\n",
      "Determine training and test scores for varying parameter values.\n",
      "\n",
      "Compute scores for an estimator with different values of a specified\n",
      "parameter. This is similar to grid search with one parameter. However, this\n",
      "will also compute training scores and is merely a utility for plotting the\n",
      "results.\n",
      "\n",
      "Read more in the :ref:`User Guide <validation_curve>`.\n",
      "\n",
      "Parameters\n",
      "----------\n",
      "estimator : object type that implements the \"fit\" and \"predict\" methods\n",
      "    An object of that type which is cloned for each validation.\n",
      "\n",
      "X : array-like of shape (n_samples, n_features)\n",
      "    Training vector, where `n_samples` is the number of samples and\n",
      "    `n_features` is the number of features.\n",
      "\n",
      "y : array-like of shape (n_samples,) or (n_samples, n_outputs) or None\n",
      "    Target relative to X for classification or regression;\n",
      "    None for unsupervised learning.\n",
      "\n",
      "param_name : str\n",
      "    Name of the parameter that will be varied.\n",
      "\n",
      "param_range : array-like of shape (n_values,)\n",
      "    The values of the parameter that will be evaluated.\n",
      "\n",
      "groups : array-like of shape (n_samples,), default=None\n",
      "    Group labels for the samples used while splitting the dataset into\n",
      "    train/test set. Only used in conjunction with a \"Group\" :term:`cv`\n",
      "    instance (e.g., :class:`GroupKFold`).\n",
      "\n",
      "cv : int, cross-validation generator or an iterable, default=None\n",
      "    Determines the cross-validation splitting strategy.\n",
      "    Possible inputs for cv are:\n",
      "\n",
      "    - None, to use the default 5-fold cross validation,\n",
      "    - int, to specify the number of folds in a `(Stratified)KFold`,\n",
      "    - :term:`CV splitter`,\n",
      "    - An iterable yielding (train, test) splits as arrays of indices.\n",
      "\n",
      "    For int/None inputs, if the estimator is a classifier and ``y`` is\n",
      "    either binary or multiclass, :class:`StratifiedKFold` is used. In all\n",
      "    other cases, :class:`KFold` is used. These splitters are instantiated\n",
      "    with `shuffle=False` so the splits will be the same across calls.\n",
      "\n",
      "    Refer :ref:`User Guide <cross_validation>` for the various\n",
      "    cross-validation strategies that can be used here.\n",
      "\n",
      "    .. versionchanged:: 0.22\n",
      "        ``cv`` default value if None changed from 3-fold to 5-fold.\n",
      "\n",
      "scoring : str or callable, default=None\n",
      "    A str (see model evaluation documentation) or\n",
      "    a scorer callable object / function with signature\n",
      "    ``scorer(estimator, X, y)``.\n",
      "\n",
      "n_jobs : int, default=None\n",
      "    Number of jobs to run in parallel. Training the estimator and computing\n",
      "    the score are parallelized over the combinations of each parameter\n",
      "    value and each cross-validation split.\n",
      "    ``None`` means 1 unless in a :obj:`joblib.parallel_backend` context.\n",
      "    ``-1`` means using all processors. See :term:`Glossary <n_jobs>`\n",
      "    for more details.\n",
      "\n",
      "pre_dispatch : int or str, default='all'\n",
      "    Number of predispatched jobs for parallel execution (default is\n",
      "    all). The option can reduce the allocated memory. The str can\n",
      "    be an expression like '2*n_jobs'.\n",
      "\n",
      "verbose : int, default=0\n",
      "    Controls the verbosity: the higher, the more messages.\n",
      "\n",
      "error_score : 'raise' or numeric, default=np.nan\n",
      "    Value to assign to the score if an error occurs in estimator fitting.\n",
      "    If set to 'raise', the error is raised.\n",
      "    If a numeric value is given, FitFailedWarning is raised.\n",
      "\n",
      "    .. versionadded:: 0.20\n",
      "\n",
      "fit_params : dict, default=None\n",
      "    Parameters to pass to the fit method of the estimator.\n",
      "\n",
      "    .. versionadded:: 0.24\n",
      "\n",
      "Returns\n",
      "-------\n",
      "train_scores : array of shape (n_ticks, n_cv_folds)\n",
      "    Scores on training sets.\n",
      "\n",
      "test_scores : array of shape (n_ticks, n_cv_folds)\n",
      "    Scores on test set.\n",
      "\n",
      "Notes\n",
      "-----\n",
      "See :ref:`sphx_glr_auto_examples_model_selection_plot_validation_curve.py`\n",
      "\u001b[1;31mFile:\u001b[0m      a:\\project\\ml_project_01\\venv\\lib\\site-packages\\sklearn\\model_selection\\_validation.py\n",
      "\u001b[1;31mType:\u001b[0m      function"
     ]
    }
   ],
   "source": [
    "validation_curve?"
   ]
  },
  {
   "cell_type": "code",
   "execution_count": 37,
   "metadata": {},
   "outputs": [
    {
     "data": {
      "text/plain": [
       "array([1.00000000e-02, 1.26185688e-02, 1.59228279e-02, 2.00923300e-02,\n",
       "       2.53536449e-02, 3.19926714e-02, 4.03701726e-02, 5.09413801e-02,\n",
       "       6.42807312e-02, 8.11130831e-02, 1.02353102e-01, 1.29154967e-01,\n",
       "       1.62975083e-01, 2.05651231e-01, 2.59502421e-01, 3.27454916e-01,\n",
       "       4.13201240e-01, 5.21400829e-01, 6.57933225e-01, 8.30217568e-01,\n",
       "       1.04761575e+00, 1.32194115e+00, 1.66810054e+00, 2.10490414e+00,\n",
       "       2.65608778e+00, 3.35160265e+00, 4.22924287e+00, 5.33669923e+00,\n",
       "       6.73415066e+00, 8.49753436e+00, 1.07226722e+01, 1.35304777e+01,\n",
       "       1.70735265e+01, 2.15443469e+01, 2.71858824e+01, 3.43046929e+01,\n",
       "       4.32876128e+01, 5.46227722e+01, 6.89261210e+01, 8.69749003e+01,\n",
       "       1.09749877e+02, 1.38488637e+02, 1.74752840e+02, 2.20513074e+02,\n",
       "       2.78255940e+02, 3.51119173e+02, 4.43062146e+02, 5.59081018e+02,\n",
       "       7.05480231e+02, 8.90215085e+02, 1.12332403e+03, 1.41747416e+03,\n",
       "       1.78864953e+03, 2.25701972e+03, 2.84803587e+03, 3.59381366e+03,\n",
       "       4.53487851e+03, 5.72236766e+03, 7.22080902e+03, 9.11162756e+03,\n",
       "       1.14975700e+04, 1.45082878e+04, 1.83073828e+04, 2.31012970e+04,\n",
       "       2.91505306e+04, 3.67837977e+04, 4.64158883e+04, 5.85702082e+04,\n",
       "       7.39072203e+04, 9.32603347e+04, 1.17681195e+05, 1.48496826e+05,\n",
       "       1.87381742e+05, 2.36448941e+05, 2.98364724e+05, 3.76493581e+05,\n",
       "       4.75081016e+05, 5.99484250e+05, 7.56463328e+05, 9.54548457e+05,\n",
       "       1.20450354e+06, 1.51991108e+06, 1.91791026e+06, 2.42012826e+06,\n",
       "       3.05385551e+06, 3.85352859e+06, 4.86260158e+06, 6.13590727e+06,\n",
       "       7.74263683e+06, 9.77009957e+06, 1.23284674e+07, 1.55567614e+07,\n",
       "       1.96304065e+07, 2.47707636e+07, 3.12571585e+07, 3.94420606e+07,\n",
       "       4.97702356e+07, 6.28029144e+07, 7.92482898e+07, 1.00000000e+08])"
      ]
     },
     "execution_count": 37,
     "metadata": {},
     "output_type": "execute_result"
    }
   ],
   "source": [
    "param_range = np.logspace(-2,8,100)\n",
    "param_range"
   ]
  },
  {
   "cell_type": "code",
   "execution_count": null,
   "metadata": {},
   "outputs": [],
   "source": []
  }
 ],
 "metadata": {
  "kernelspec": {
   "display_name": "Python 3",
   "language": "python",
   "name": "python3"
  },
  "language_info": {
   "codemirror_mode": {
    "name": "ipython",
    "version": 3
   },
   "file_extension": ".py",
   "mimetype": "text/x-python",
   "name": "python",
   "nbconvert_exporter": "python",
   "pygments_lexer": "ipython3",
   "version": "3.9.16"
  }
 },
 "nbformat": 4,
 "nbformat_minor": 2
}
