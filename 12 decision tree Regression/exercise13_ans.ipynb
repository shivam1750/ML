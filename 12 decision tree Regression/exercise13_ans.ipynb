{
 "cells": [
  {
   "cell_type": "code",
   "execution_count": 66,
   "metadata": {},
   "outputs": [],
   "source": [
    "import pandas as pd\n",
    "import numpy as np\n",
    "import seaborn as sns"
   ]
  },
  {
   "cell_type": "code",
   "execution_count": 67,
   "metadata": {},
   "outputs": [],
   "source": [
    "df = pd.read_csv('laptop_pricing.csv')"
   ]
  },
  {
   "cell_type": "code",
   "execution_count": 68,
   "metadata": {},
   "outputs": [
    {
     "data": {
      "text/plain": [
       "Manufacturer             0\n",
       "IntelCore(i-)            0\n",
       "IntelCoreGen             0\n",
       "processing speed(GHz)    0\n",
       "Ram(gb)                  9\n",
       "HDD(gb)                  0\n",
       "SSD(gb)                  0\n",
       "Graphics(gb)             0\n",
       "ScreenSize(inch)         0\n",
       "Price                    0\n",
       "dtype: int64"
      ]
     },
     "execution_count": 68,
     "metadata": {},
     "output_type": "execute_result"
    }
   ],
   "source": [
    "df.isna().sum()"
   ]
  },
  {
   "cell_type": "code",
   "execution_count": 69,
   "metadata": {},
   "outputs": [
    {
     "data": {
      "text/plain": [
       "0       4.0\n",
       "1       4.0\n",
       "2       8.0\n",
       "3       NaN\n",
       "4       4.0\n",
       "       ... \n",
       "100    16.0\n",
       "101     8.0\n",
       "102     8.0\n",
       "103    32.0\n",
       "104     8.0\n",
       "Name: Ram(gb), Length: 105, dtype: float64"
      ]
     },
     "execution_count": 69,
     "metadata": {},
     "output_type": "execute_result"
    }
   ],
   "source": [
    "df['Ram(gb)']"
   ]
  },
  {
   "cell_type": "code",
   "execution_count": 70,
   "metadata": {},
   "outputs": [],
   "source": [
    "meadian_value = df['Ram(gb)'].median()"
   ]
  },
  {
   "cell_type": "code",
   "execution_count": 71,
   "metadata": {},
   "outputs": [],
   "source": [
    "df['Ram(gb)'] = df['Ram(gb)'].fillna(meadian_value ,axis=0)"
   ]
  },
  {
   "cell_type": "code",
   "execution_count": 72,
   "metadata": {},
   "outputs": [
    {
     "data": {
      "text/plain": [
       "Manufacturer             0\n",
       "IntelCore(i-)            0\n",
       "IntelCoreGen             0\n",
       "processing speed(GHz)    0\n",
       "Ram(gb)                  0\n",
       "HDD(gb)                  0\n",
       "SSD(gb)                  0\n",
       "Graphics(gb)             0\n",
       "ScreenSize(inch)         0\n",
       "Price                    0\n",
       "dtype: int64"
      ]
     },
     "execution_count": 72,
     "metadata": {},
     "output_type": "execute_result"
    }
   ],
   "source": [
    "df.isna().sum()"
   ]
  },
  {
   "cell_type": "code",
   "execution_count": null,
   "metadata": {},
   "outputs": [],
   "source": []
  }
 ],
 "metadata": {
  "kernelspec": {
   "display_name": "Python 3",
   "language": "python",
   "name": "python3"
  },
  "language_info": {
   "codemirror_mode": {
    "name": "ipython",
    "version": 3
   },
   "file_extension": ".py",
   "mimetype": "text/x-python",
   "name": "python",
   "nbconvert_exporter": "python",
   "pygments_lexer": "ipython3",
   "version": "3.9.16"
  }
 },
 "nbformat": 4,
 "nbformat_minor": 2
}
