{
 "cells": [
  {
   "cell_type": "code",
   "execution_count": 2,
   "id": "213d5585",
   "metadata": {},
   "outputs": [],
   "source": [
    "a='Start-Tech Academy'\n",
    "b='I am a student of'"
   ]
  },
  {
   "cell_type": "markdown",
   "id": "8f7fba7d",
   "metadata": {},
   "source": [
    "Print i am a student of start-tech academy using above 2 variables\n"
   ]
  },
  {
   "cell_type": "code",
   "execution_count": 4,
   "id": "6cf9adbc",
   "metadata": {},
   "outputs": [
    {
     "data": {
      "text/plain": [
       "'I am a student of Start-Tech Academy'"
      ]
     },
     "execution_count": 4,
     "metadata": {},
     "output_type": "execute_result"
    }
   ],
   "source": [
    "b+\" \"+a"
   ]
  },
  {
   "cell_type": "code",
   "execution_count": 6,
   "id": "86a13a6a",
   "metadata": {},
   "outputs": [],
   "source": [
    "L1=[1,2,8,9,15,85,45,69,55,3,7]"
   ]
  },
  {
   "cell_type": "markdown",
   "id": "48e72747",
   "metadata": {},
   "source": [
    "Find out the 4th element of list L1"
   ]
  },
  {
   "cell_type": "code",
   "execution_count": 7,
   "id": "4b9b26d6",
   "metadata": {},
   "outputs": [
    {
     "data": {
      "text/plain": [
       "85"
      ]
     },
     "execution_count": 7,
     "metadata": {},
     "output_type": "execute_result"
    }
   ],
   "source": [
    "L1[5]"
   ]
  },
  {
   "cell_type": "markdown",
   "id": "335014e7",
   "metadata": {},
   "source": [
    "Find out the length of list L1"
   ]
  },
  {
   "cell_type": "code",
   "execution_count": 8,
   "id": "14996fa0",
   "metadata": {},
   "outputs": [
    {
     "data": {
      "text/plain": [
       "11"
      ]
     },
     "execution_count": 8,
     "metadata": {},
     "output_type": "execute_result"
    }
   ],
   "source": [
    "len(L1)"
   ]
  },
  {
   "cell_type": "markdown",
   "id": "2e6d6651",
   "metadata": {},
   "source": [
    "Create a tupple of one element"
   ]
  },
  {
   "cell_type": "code",
   "execution_count": 9,
   "id": "16cbb5d0",
   "metadata": {},
   "outputs": [],
   "source": [
    "x=(1,2)"
   ]
  },
  {
   "cell_type": "markdown",
   "id": "6d0d88d8",
   "metadata": {},
   "source": [
    "Print the type of tupple using type(x)\n"
   ]
  },
  {
   "cell_type": "code",
   "execution_count": 10,
   "id": "80f0c86b",
   "metadata": {},
   "outputs": [
    {
     "data": {
      "text/plain": [
       "tuple"
      ]
     },
     "execution_count": 10,
     "metadata": {},
     "output_type": "execute_result"
    }
   ],
   "source": [
    "type(x)"
   ]
  }
 ],
 "metadata": {
  "kernelspec": {
   "display_name": "Python 3 (ipykernel)",
   "language": "python",
   "name": "python3"
  },
  "language_info": {
   "codemirror_mode": {
    "name": "ipython",
    "version": 3
   },
   "file_extension": ".py",
   "mimetype": "text/x-python",
   "name": "python",
   "nbconvert_exporter": "python",
   "pygments_lexer": "ipython3",
   "version": "3.9.16"
  }
 },
 "nbformat": 4,
 "nbformat_minor": 5
}
