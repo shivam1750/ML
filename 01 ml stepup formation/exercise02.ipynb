{
 "cells": [
  {
   "cell_type": "markdown",
   "id": "f8a4d3c6",
   "metadata": {},
   "source": [
    "Import Numpy library"
   ]
  },
  {
   "cell_type": "code",
   "execution_count": 1,
   "id": "d65c6ec3",
   "metadata": {},
   "outputs": [],
   "source": [
    "import numpy as np"
   ]
  },
  {
   "cell_type": "markdown",
   "id": "02f268c4",
   "metadata": {},
   "source": [
    "Create a numpy array of zeros of size 2*5"
   ]
  },
  {
   "cell_type": "code",
   "execution_count": 5,
   "id": "d99c8890",
   "metadata": {},
   "outputs": [
    {
     "data": {
      "text/plain": [
       "array([[0., 0., 0., 0., 0.],\n",
       "       [0., 0., 0., 0., 0.]])"
      ]
     },
     "execution_count": 5,
     "metadata": {},
     "output_type": "execute_result"
    }
   ],
   "source": [
    "np1 = np.zeros((2,5))\n",
    "np1"
   ]
  },
  {
   "cell_type": "code",
   "execution_count": 2,
   "id": "b7976105",
   "metadata": {},
   "outputs": [
    {
     "name": "stdout",
     "output_type": "stream",
     "text": [
      "Help on built-in function zeros in module numpy:\n",
      "\n",
      "zeros(...)\n",
      "    zeros(shape, dtype=float, order='C', *, like=None)\n",
      "    \n",
      "    Return a new array of given shape and type, filled with zeros.\n",
      "    \n",
      "    Parameters\n",
      "    ----------\n",
      "    shape : int or tuple of ints\n",
      "        Shape of the new array, e.g., ``(2, 3)`` or ``2``.\n",
      "    dtype : data-type, optional\n",
      "        The desired data-type for the array, e.g., `numpy.int8`.  Default is\n",
      "        `numpy.float64`.\n",
      "    order : {'C', 'F'}, optional, default: 'C'\n",
      "        Whether to store multi-dimensional data in row-major\n",
      "        (C-style) or column-major (Fortran-style) order in\n",
      "        memory.\n",
      "    like : array_like, optional\n",
      "        Reference object to allow the creation of arrays which are not\n",
      "        NumPy arrays. If an array-like passed in as ``like`` supports\n",
      "        the ``__array_function__`` protocol, the result will be defined\n",
      "        by it. In this case, it ensures the creation of an array object\n",
      "        compatible with that passed in via this argument.\n",
      "    \n",
      "        .. versionadded:: 1.20.0\n",
      "    \n",
      "    Returns\n",
      "    -------\n",
      "    out : ndarray\n",
      "        Array of zeros with the given shape, dtype, and order.\n",
      "    \n",
      "    See Also\n",
      "    --------\n",
      "    zeros_like : Return an array of zeros with shape and type of input.\n",
      "    empty : Return a new uninitialized array.\n",
      "    ones : Return a new array setting values to one.\n",
      "    full : Return a new array of given shape filled with value.\n",
      "    \n",
      "    Examples\n",
      "    --------\n",
      "    >>> np.zeros(5)\n",
      "    array([ 0.,  0.,  0.,  0.,  0.])\n",
      "    \n",
      "    >>> np.zeros((5,), dtype=int)\n",
      "    array([0, 0, 0, 0, 0])\n",
      "    \n",
      "    >>> np.zeros((2, 1))\n",
      "    array([[ 0.],\n",
      "           [ 0.]])\n",
      "    \n",
      "    >>> s = (2,2)\n",
      "    >>> np.zeros(s)\n",
      "    array([[ 0.,  0.],\n",
      "           [ 0.,  0.]])\n",
      "    \n",
      "    >>> np.zeros((2,), dtype=[('x', 'i4'), ('y', 'i4')]) # custom dtype\n",
      "    array([(0, 0), (0, 0)],\n",
      "          dtype=[('x', '<i4'), ('y', '<i4')])\n",
      "\n"
     ]
    }
   ],
   "source": [
    "help(np.zeros)"
   ]
  },
  {
   "cell_type": "markdown",
   "id": "68a89e10",
   "metadata": {},
   "source": [
    "Create an identity numpy array of size 4"
   ]
  },
  {
   "cell_type": "code",
   "execution_count": 6,
   "id": "1501b360",
   "metadata": {},
   "outputs": [
    {
     "data": {
      "text/plain": [
       "array([[1., 0., 0., 0.],\n",
       "       [0., 1., 0., 0.],\n",
       "       [0., 0., 1., 0.],\n",
       "       [0., 0., 0., 1.]])"
      ]
     },
     "execution_count": 6,
     "metadata": {},
     "output_type": "execute_result"
    }
   ],
   "source": [
    "np.identity(4)"
   ]
  },
  {
   "cell_type": "markdown",
   "id": "cb5cd6e8",
   "metadata": {},
   "source": [
    "import pandas library"
   ]
  },
  {
   "cell_type": "code",
   "execution_count": 7,
   "id": "6655021b",
   "metadata": {},
   "outputs": [],
   "source": [
    "import pandas as pd"
   ]
  },
  {
   "cell_type": "markdown",
   "id": "41999228",
   "metadata": {},
   "source": [
    "creata a pandas dataframe using numpy array of random numbers of size 10*4"
   ]
  },
  {
   "cell_type": "code",
   "execution_count": 11,
   "id": "c6933f35",
   "metadata": {},
   "outputs": [
    {
     "data": {
      "text/plain": [
       "array([[0.96183532, 0.33658623, 0.23711089, 0.6463369 ],\n",
       "       [0.21304002, 0.37674381, 0.95344561, 0.47928591],\n",
       "       [0.04365559, 0.76064323, 0.12330635, 0.59839541],\n",
       "       [0.19930174, 0.01564706, 0.13186008, 0.7079494 ],\n",
       "       [0.96016595, 0.13844148, 0.07679173, 0.03481257],\n",
       "       [0.46561926, 0.0125037 , 0.47784601, 0.41531152],\n",
       "       [0.88014841, 0.52733054, 0.79955197, 0.97363888],\n",
       "       [0.42607978, 0.97554829, 0.00946249, 0.31117949],\n",
       "       [0.92273719, 0.60292544, 0.29221618, 0.21830685],\n",
       "       [0.99331717, 0.5300869 , 0.02892894, 0.08408883]])"
      ]
     },
     "execution_count": 11,
     "metadata": {},
     "output_type": "execute_result"
    }
   ],
   "source": [
    "np.random.rand(10,4)"
   ]
  },
  {
   "cell_type": "code",
   "execution_count": 12,
   "id": "23025448",
   "metadata": {},
   "outputs": [
    {
     "data": {
      "text/html": [
       "<div>\n",
       "<style scoped>\n",
       "    .dataframe tbody tr th:only-of-type {\n",
       "        vertical-align: middle;\n",
       "    }\n",
       "\n",
       "    .dataframe tbody tr th {\n",
       "        vertical-align: top;\n",
       "    }\n",
       "\n",
       "    .dataframe thead th {\n",
       "        text-align: right;\n",
       "    }\n",
       "</style>\n",
       "<table border=\"1\" class=\"dataframe\">\n",
       "  <thead>\n",
       "    <tr style=\"text-align: right;\">\n",
       "      <th></th>\n",
       "      <th>0</th>\n",
       "      <th>1</th>\n",
       "      <th>2</th>\n",
       "      <th>3</th>\n",
       "    </tr>\n",
       "  </thead>\n",
       "  <tbody>\n",
       "    <tr>\n",
       "      <th>0</th>\n",
       "      <td>0.510378</td>\n",
       "      <td>0.173469</td>\n",
       "      <td>0.559452</td>\n",
       "      <td>0.855773</td>\n",
       "    </tr>\n",
       "    <tr>\n",
       "      <th>1</th>\n",
       "      <td>0.317446</td>\n",
       "      <td>0.375031</td>\n",
       "      <td>0.190343</td>\n",
       "      <td>0.038502</td>\n",
       "    </tr>\n",
       "    <tr>\n",
       "      <th>2</th>\n",
       "      <td>0.405630</td>\n",
       "      <td>0.184850</td>\n",
       "      <td>0.406077</td>\n",
       "      <td>0.747348</td>\n",
       "    </tr>\n",
       "    <tr>\n",
       "      <th>3</th>\n",
       "      <td>0.610780</td>\n",
       "      <td>0.225679</td>\n",
       "      <td>0.135720</td>\n",
       "      <td>0.354112</td>\n",
       "    </tr>\n",
       "    <tr>\n",
       "      <th>4</th>\n",
       "      <td>0.627672</td>\n",
       "      <td>0.460395</td>\n",
       "      <td>0.310912</td>\n",
       "      <td>0.964238</td>\n",
       "    </tr>\n",
       "    <tr>\n",
       "      <th>5</th>\n",
       "      <td>0.222698</td>\n",
       "      <td>0.237892</td>\n",
       "      <td>0.410767</td>\n",
       "      <td>0.679680</td>\n",
       "    </tr>\n",
       "    <tr>\n",
       "      <th>6</th>\n",
       "      <td>0.272054</td>\n",
       "      <td>0.546094</td>\n",
       "      <td>0.547208</td>\n",
       "      <td>0.591481</td>\n",
       "    </tr>\n",
       "    <tr>\n",
       "      <th>7</th>\n",
       "      <td>0.015272</td>\n",
       "      <td>0.001719</td>\n",
       "      <td>0.267383</td>\n",
       "      <td>0.732401</td>\n",
       "    </tr>\n",
       "    <tr>\n",
       "      <th>8</th>\n",
       "      <td>0.882123</td>\n",
       "      <td>0.861639</td>\n",
       "      <td>0.349709</td>\n",
       "      <td>0.782405</td>\n",
       "    </tr>\n",
       "    <tr>\n",
       "      <th>9</th>\n",
       "      <td>0.307353</td>\n",
       "      <td>0.481804</td>\n",
       "      <td>0.925407</td>\n",
       "      <td>0.576146</td>\n",
       "    </tr>\n",
       "  </tbody>\n",
       "</table>\n",
       "</div>"
      ],
      "text/plain": [
       "          0         1         2         3\n",
       "0  0.510378  0.173469  0.559452  0.855773\n",
       "1  0.317446  0.375031  0.190343  0.038502\n",
       "2  0.405630  0.184850  0.406077  0.747348\n",
       "3  0.610780  0.225679  0.135720  0.354112\n",
       "4  0.627672  0.460395  0.310912  0.964238\n",
       "5  0.222698  0.237892  0.410767  0.679680\n",
       "6  0.272054  0.546094  0.547208  0.591481\n",
       "7  0.015272  0.001719  0.267383  0.732401\n",
       "8  0.882123  0.861639  0.349709  0.782405\n",
       "9  0.307353  0.481804  0.925407  0.576146"
      ]
     },
     "execution_count": 12,
     "metadata": {},
     "output_type": "execute_result"
    }
   ],
   "source": [
    "df = pd.DataFrame(np.random.rand(10,4))\n",
    "df"
   ]
  },
  {
   "cell_type": "markdown",
   "id": "b0b299bc",
   "metadata": {},
   "source": [
    "Find info of dataframe using df.info()"
   ]
  },
  {
   "cell_type": "code",
   "execution_count": 13,
   "id": "e34f9787",
   "metadata": {},
   "outputs": [
    {
     "name": "stdout",
     "output_type": "stream",
     "text": [
      "<class 'pandas.core.frame.DataFrame'>\n",
      "RangeIndex: 10 entries, 0 to 9\n",
      "Data columns (total 4 columns):\n",
      " #   Column  Non-Null Count  Dtype  \n",
      "---  ------  --------------  -----  \n",
      " 0   0       10 non-null     float64\n",
      " 1   1       10 non-null     float64\n",
      " 2   2       10 non-null     float64\n",
      " 3   3       10 non-null     float64\n",
      "dtypes: float64(4)\n",
      "memory usage: 448.0 bytes\n"
     ]
    }
   ],
   "source": [
    "df.info()"
   ]
  },
  {
   "cell_type": "markdown",
   "id": "0a31f816",
   "metadata": {},
   "source": [
    "Find out the top 5 values of dataframe"
   ]
  },
  {
   "cell_type": "code",
   "execution_count": 14,
   "id": "018916ab",
   "metadata": {},
   "outputs": [
    {
     "data": {
      "text/html": [
       "<div>\n",
       "<style scoped>\n",
       "    .dataframe tbody tr th:only-of-type {\n",
       "        vertical-align: middle;\n",
       "    }\n",
       "\n",
       "    .dataframe tbody tr th {\n",
       "        vertical-align: top;\n",
       "    }\n",
       "\n",
       "    .dataframe thead th {\n",
       "        text-align: right;\n",
       "    }\n",
       "</style>\n",
       "<table border=\"1\" class=\"dataframe\">\n",
       "  <thead>\n",
       "    <tr style=\"text-align: right;\">\n",
       "      <th></th>\n",
       "      <th>0</th>\n",
       "      <th>1</th>\n",
       "      <th>2</th>\n",
       "      <th>3</th>\n",
       "    </tr>\n",
       "  </thead>\n",
       "  <tbody>\n",
       "    <tr>\n",
       "      <th>0</th>\n",
       "      <td>0.510378</td>\n",
       "      <td>0.173469</td>\n",
       "      <td>0.559452</td>\n",
       "      <td>0.855773</td>\n",
       "    </tr>\n",
       "    <tr>\n",
       "      <th>1</th>\n",
       "      <td>0.317446</td>\n",
       "      <td>0.375031</td>\n",
       "      <td>0.190343</td>\n",
       "      <td>0.038502</td>\n",
       "    </tr>\n",
       "    <tr>\n",
       "      <th>2</th>\n",
       "      <td>0.405630</td>\n",
       "      <td>0.184850</td>\n",
       "      <td>0.406077</td>\n",
       "      <td>0.747348</td>\n",
       "    </tr>\n",
       "    <tr>\n",
       "      <th>3</th>\n",
       "      <td>0.610780</td>\n",
       "      <td>0.225679</td>\n",
       "      <td>0.135720</td>\n",
       "      <td>0.354112</td>\n",
       "    </tr>\n",
       "    <tr>\n",
       "      <th>4</th>\n",
       "      <td>0.627672</td>\n",
       "      <td>0.460395</td>\n",
       "      <td>0.310912</td>\n",
       "      <td>0.964238</td>\n",
       "    </tr>\n",
       "  </tbody>\n",
       "</table>\n",
       "</div>"
      ],
      "text/plain": [
       "          0         1         2         3\n",
       "0  0.510378  0.173469  0.559452  0.855773\n",
       "1  0.317446  0.375031  0.190343  0.038502\n",
       "2  0.405630  0.184850  0.406077  0.747348\n",
       "3  0.610780  0.225679  0.135720  0.354112\n",
       "4  0.627672  0.460395  0.310912  0.964238"
      ]
     },
     "execution_count": 14,
     "metadata": {},
     "output_type": "execute_result"
    }
   ],
   "source": [
    "df.head()"
   ]
  },
  {
   "cell_type": "markdown",
   "id": "103ce0bd",
   "metadata": {},
   "source": [
    "Import seaborn library"
   ]
  },
  {
   "cell_type": "code",
   "execution_count": 15,
   "id": "f32b13b6",
   "metadata": {},
   "outputs": [],
   "source": [
    "import seaborn as sns"
   ]
  },
  {
   "cell_type": "markdown",
   "id": "69aa8b2e",
   "metadata": {},
   "source": [
    "Create a pairplot using pandas dataframe"
   ]
  },
  {
   "cell_type": "code",
   "execution_count": 16,
   "id": "f4999b9e",
   "metadata": {},
   "outputs": [
    {
     "data": {
      "text/plain": [
       "<seaborn.axisgrid.PairGrid at 0x17792d2bc10>"
      ]
     },
     "execution_count": 16,
     "metadata": {},
     "output_type": "execute_result"
    },
    {
     "data": {
      "image/png": "[encoded data removed]",
      "text/plain": [
       "<Figure size 1000x1000 with 20 Axes>"
      ]
     },
     "metadata": {},
     "output_type": "display_data"
    }
   ],
   "source": [
    "sns.pairplot(df)"
   ]
  },
  {
   "cell_type": "code",
   "execution_count": null,
   "id": "52f14a74",
   "metadata": {},
   "outputs": [],
   "source": []
  }
 ],
 "metadata": {
  "kernelspec": {
   "display_name": "Python 3 (ipykernel)",
   "language": "python",
   "name": "python3"
  },
  "language_info": {
   "codemirror_mode": {
    "name": "ipython",
    "version": 3
   },
   "file_extension": ".py",
   "mimetype": "text/x-python",
   "name": "python",
   "nbconvert_exporter": "python",
   "pygments_lexer": "ipython3",
   "version": "3.9.16"
  }
 },
 "nbformat": 4,
 "nbformat_minor": 5
}
